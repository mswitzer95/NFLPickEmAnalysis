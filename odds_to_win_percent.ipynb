{
 "cells": [
  {
   "cell_type": "markdown",
   "id": "7525f514-b3a4-4863-b0fa-fe304486211a",
   "metadata": {},
   "source": [
    "This notebook serves to determine how to convert betting lines to estimated win probabilities by looking at historical data. The data is stored in a CSV file within the directory and is from https://www.teamrankings.com/nfl/odds-history/results/? using all games since the 2003 season to the date of writing (11/13/24)."
   ]
  },
  {
   "cell_type": "markdown",
   "id": "cab736c7-6e67-4f41-9fd4-e4fb61203a92",
   "metadata": {},
   "source": [
    "# Setup"
   ]
  },
  {
   "cell_type": "markdown",
   "id": "a03f14ed-a5ea-4eea-9485-48e29e2b4b6b",
   "metadata": {},
   "source": [
    "Imports"
   ]
  },
  {
   "cell_type": "code",
   "execution_count": 85,
   "id": "81d2ffe7-db0c-43da-98cd-6877c145f25b",
   "metadata": {},
   "outputs": [],
   "source": [
    "import pandas as pd\n",
    "from sklearn.linear_model import LinearRegression, LogisticRegression\n",
    "from sklearn.model_selection import train_test_split\n",
    "from sklearn.metrics import mean_squared_error\n",
    "import numpy as np\n",
    "from random import sample"
   ]
  },
  {
   "cell_type": "markdown",
   "id": "9a3e25bb-af7d-44fb-a128-dc30a945ba20",
   "metadata": {},
   "source": [
    "Retrieving the data from the CSV file."
   ]
  },
  {
   "cell_type": "code",
   "execution_count": 45,
   "id": "aa80eb98-edd8-42aa-9d88-644254235d86",
   "metadata": {},
   "outputs": [
    {
     "data": {
      "text/html": [
       "<div>\n",
       "<style scoped>\n",
       "    .dataframe tbody tr th:only-of-type {\n",
       "        vertical-align: middle;\n",
       "    }\n",
       "\n",
       "    .dataframe tbody tr th {\n",
       "        vertical-align: top;\n",
       "    }\n",
       "\n",
       "    .dataframe thead th {\n",
       "        text-align: right;\n",
       "    }\n",
       "</style>\n",
       "<table border=\"1\" class=\"dataframe\">\n",
       "  <thead>\n",
       "    <tr style=\"text-align: right;\">\n",
       "      <th></th>\n",
       "      <th>Closing Spread</th>\n",
       "      <th>Game Count</th>\n",
       "      <th>Win Record</th>\n",
       "      <th>Win %</th>\n",
       "      <th>Average MOV</th>\n",
       "      <th>Cover Record</th>\n",
       "      <th>Cover %</th>\n",
       "    </tr>\n",
       "  </thead>\n",
       "  <tbody>\n",
       "    <tr>\n",
       "      <th>0</th>\n",
       "      <td>27.0</td>\n",
       "      <td>1.0</td>\n",
       "      <td>0-1-0</td>\n",
       "      <td>0.0%</td>\n",
       "      <td>-16.0</td>\n",
       "      <td>1-0-0</td>\n",
       "      <td>100.0%</td>\n",
       "    </tr>\n",
       "    <tr>\n",
       "      <th>1</th>\n",
       "      <td>24.0</td>\n",
       "      <td>1.0</td>\n",
       "      <td>0-1-0</td>\n",
       "      <td>0.0%</td>\n",
       "      <td>-3.0</td>\n",
       "      <td>1-0-0</td>\n",
       "      <td>100.0%</td>\n",
       "    </tr>\n",
       "    <tr>\n",
       "      <th>2</th>\n",
       "      <td>22.0</td>\n",
       "      <td>1.0</td>\n",
       "      <td>0-1-0</td>\n",
       "      <td>0.0%</td>\n",
       "      <td>-21.0</td>\n",
       "      <td>1-0-0</td>\n",
       "      <td>100.0%</td>\n",
       "    </tr>\n",
       "    <tr>\n",
       "      <th>3</th>\n",
       "      <td>21.5</td>\n",
       "      <td>1.0</td>\n",
       "      <td>0-1-0</td>\n",
       "      <td>0.0%</td>\n",
       "      <td>-25.0</td>\n",
       "      <td>0-1-0</td>\n",
       "      <td>0.0%</td>\n",
       "    </tr>\n",
       "    <tr>\n",
       "      <th>4</th>\n",
       "      <td>20.5</td>\n",
       "      <td>3.0</td>\n",
       "      <td>0-3-0</td>\n",
       "      <td>0.0%</td>\n",
       "      <td>-11.0</td>\n",
       "      <td>3-0-0</td>\n",
       "      <td>100.0%</td>\n",
       "    </tr>\n",
       "    <tr>\n",
       "      <th>...</th>\n",
       "      <td>...</td>\n",
       "      <td>...</td>\n",
       "      <td>...</td>\n",
       "      <td>...</td>\n",
       "      <td>...</td>\n",
       "      <td>...</td>\n",
       "      <td>...</td>\n",
       "    </tr>\n",
       "    <tr>\n",
       "      <th>87</th>\n",
       "      <td>-21.5</td>\n",
       "      <td>1.0</td>\n",
       "      <td>1-0-0</td>\n",
       "      <td>100.0%</td>\n",
       "      <td>25.0</td>\n",
       "      <td>1-0-0</td>\n",
       "      <td>100.0%</td>\n",
       "    </tr>\n",
       "    <tr>\n",
       "      <th>88</th>\n",
       "      <td>-22.0</td>\n",
       "      <td>1.0</td>\n",
       "      <td>1-0-0</td>\n",
       "      <td>100.0%</td>\n",
       "      <td>21.0</td>\n",
       "      <td>0-1-0</td>\n",
       "      <td>0.0%</td>\n",
       "    </tr>\n",
       "    <tr>\n",
       "      <th>89</th>\n",
       "      <td>-24.0</td>\n",
       "      <td>1.0</td>\n",
       "      <td>1-0-0</td>\n",
       "      <td>100.0%</td>\n",
       "      <td>3.0</td>\n",
       "      <td>0-1-0</td>\n",
       "      <td>0.0%</td>\n",
       "    </tr>\n",
       "    <tr>\n",
       "      <th>90</th>\n",
       "      <td>-27.0</td>\n",
       "      <td>1.0</td>\n",
       "      <td>1-0-0</td>\n",
       "      <td>100.0%</td>\n",
       "      <td>16.0</td>\n",
       "      <td>0-1-0</td>\n",
       "      <td>0.0%</td>\n",
       "    </tr>\n",
       "    <tr>\n",
       "      <th>91</th>\n",
       "      <td>NaN</td>\n",
       "      <td>NaN</td>\n",
       "      <td>NaN</td>\n",
       "      <td>NaN</td>\n",
       "      <td>NaN</td>\n",
       "      <td>NaN</td>\n",
       "      <td>NaN</td>\n",
       "    </tr>\n",
       "  </tbody>\n",
       "</table>\n",
       "<p>92 rows × 7 columns</p>\n",
       "</div>"
      ],
      "text/plain": [
       "    Closing Spread  Game Count Win Record   Win %  Average MOV Cover Record  \\\n",
       "0             27.0         1.0      0-1-0    0.0%        -16.0        1-0-0   \n",
       "1             24.0         1.0      0-1-0    0.0%         -3.0        1-0-0   \n",
       "2             22.0         1.0      0-1-0    0.0%        -21.0        1-0-0   \n",
       "3             21.5         1.0      0-1-0    0.0%        -25.0        0-1-0   \n",
       "4             20.5         3.0      0-3-0    0.0%        -11.0        3-0-0   \n",
       "..             ...         ...        ...     ...          ...          ...   \n",
       "87           -21.5         1.0      1-0-0  100.0%         25.0        1-0-0   \n",
       "88           -22.0         1.0      1-0-0  100.0%         21.0        0-1-0   \n",
       "89           -24.0         1.0      1-0-0  100.0%          3.0        0-1-0   \n",
       "90           -27.0         1.0      1-0-0  100.0%         16.0        0-1-0   \n",
       "91             NaN         NaN        NaN     NaN          NaN          NaN   \n",
       "\n",
       "   Cover %  \n",
       "0   100.0%  \n",
       "1   100.0%  \n",
       "2   100.0%  \n",
       "3     0.0%  \n",
       "4   100.0%  \n",
       "..     ...  \n",
       "87  100.0%  \n",
       "88    0.0%  \n",
       "89    0.0%  \n",
       "90    0.0%  \n",
       "91     NaN  \n",
       "\n",
       "[92 rows x 7 columns]"
      ]
     },
     "execution_count": 45,
     "metadata": {},
     "output_type": "execute_result"
    }
   ],
   "source": [
    "historic_odds = pd.read_csv(\"historic_odds.csv\")\n",
    "historic_odds"
   ]
  },
  {
   "cell_type": "markdown",
   "id": "8241795b-9b49-4866-a237-083dda66b456",
   "metadata": {},
   "source": [
    "Restricting to only those with closing spread <=0 (otherwise double couting), then converting to list of tuples of ints whose first value is the closing spread and whose second value is either 1 (the favorite won) or 0 (the favorite lost)."
   ]
  },
  {
   "cell_type": "code",
   "execution_count": 61,
   "id": "fdeb38f5-4d3a-42fb-bf30-93dade6ccca2",
   "metadata": {},
   "outputs": [
    {
     "name": "stdout",
     "output_type": "stream",
     "text": [
      "Test...\n",
      "[(-7.0, 1), (-6.5, 1), (-14.0, 1), (-7.0, 0), (-1.5, 0), (-6.5, 0), (-3.0, 0), (-4.0, 1), (-6.0, 1), (-6.5, 1)]\n"
     ]
    }
   ],
   "source": [
    "historic_odds[\"Closing Spread\"] = [float(spread) for spread in historic_odds[\"Closing Spread\"].tolist()]\n",
    "historic_odds = historic_odds[historic_odds[\"Closing Spread\"] <= 0]\n",
    "outcomes = []\n",
    "for row in historic_odds.iterrows():\n",
    "    row_values = row[1]\n",
    "    win_record = row_values[\"Win Record\"].split(\"-\")\n",
    "    closing_spread = row_values[\"Closing Spread\"]\n",
    "    wins = int(win_record[0])\n",
    "    losses = int(win_record[1])\n",
    "    outcomes += [(closing_spread, 1)] * wins\n",
    "    outcomes += [(closing_spread, 0)] * losses\n",
    "\n",
    "print(\"Test...\")\n",
    "print(sample(outcomes, 10))"
   ]
  },
  {
   "cell_type": "markdown",
   "id": "510cb48a-c77a-4421-af82-3fc930181502",
   "metadata": {},
   "source": [
    "Splitting outcomes into train (90%) and test (10%)"
   ]
  },
  {
   "cell_type": "code",
   "execution_count": 71,
   "id": "33070d09-fd1c-4e3e-bb52-e6da69eaca39",
   "metadata": {},
   "outputs": [],
   "source": [
    "x = [[outcome[0]] for outcome in outcomes]\n",
    "y = [outcome[1] for outcome in outcomes]\n",
    "x_train, x_test, y_train, y_test = train_test_split(x, y, train_size=0.9, random_state=1234)"
   ]
  },
  {
   "cell_type": "markdown",
   "id": "4169969b-2246-4a69-9106-62091b738a91",
   "metadata": {},
   "source": [
    "# Linear regression"
   ]
  },
  {
   "cell_type": "markdown",
   "id": "535f8098-8969-4b2a-bb13-d8e92090e140",
   "metadata": {},
   "source": [
    "Fitting a linear regression model."
   ]
  },
  {
   "cell_type": "code",
   "execution_count": 90,
   "id": "4b2c52ee-4328-4a11-8b0c-fc1c56f89775",
   "metadata": {},
   "outputs": [],
   "source": [
    "linear_regression_model = LinearRegression().fit(x_train, y_train)"
   ]
  },
  {
   "cell_type": "markdown",
   "id": "ed67bb31-77fa-4ef1-a022-a626716f1034",
   "metadata": {},
   "source": [
    "Predicting on test data, and converting predictions to be within 0-1."
   ]
  },
  {
   "cell_type": "code",
   "execution_count": 91,
   "id": "e6bfd47a-b7c6-4f30-b697-2db974589803",
   "metadata": {},
   "outputs": [],
   "source": [
    "predictions = linear_regression_model.predict(x_test)\n",
    "for prediction_index in range(len(predictions)):\n",
    "    prediction = predictions[prediction_index]\n",
    "    if prediction > 1:\n",
    "        predictions[prediction_index] = 1\n",
    "    elif prediction < 0:\n",
    "        predictions[prediction_index] = 0"
   ]
  },
  {
   "cell_type": "markdown",
   "id": "0f13699c-1204-44e3-abd5-071a1919d8b3",
   "metadata": {},
   "source": [
    "Assessing against test data using RMSE."
   ]
  },
  {
   "cell_type": "code",
   "execution_count": 92,
   "id": "608c5fa9-11df-4c74-86ef-fa8ae873cddd",
   "metadata": {},
   "outputs": [
    {
     "data": {
      "text/plain": [
       "0.4629383239953458"
      ]
     },
     "execution_count": 92,
     "metadata": {},
     "output_type": "execute_result"
    }
   ],
   "source": [
    "RMSE = np.sqrt(mean_squared_error(y_test, predictions))\n",
    "RMSE"
   ]
  },
  {
   "cell_type": "markdown",
   "id": "69b171bd-d11a-47d4-b11e-ec40cd170db2",
   "metadata": {},
   "source": [
    "# Logistic Regression"
   ]
  },
  {
   "cell_type": "markdown",
   "id": "822e290a-1365-4967-8d25-2dd7ee189813",
   "metadata": {},
   "source": [
    "Fitting a logistic regression model."
   ]
  },
  {
   "cell_type": "code",
   "execution_count": 89,
   "id": "93297927-bb1a-4423-a926-1a4a10e92d55",
   "metadata": {},
   "outputs": [],
   "source": [
    "logistic_regression_model = LogisticRegression().fit(x_train, y_train)"
   ]
  },
  {
   "cell_type": "markdown",
   "id": "c2573be4-d736-49db-8f9c-aa60c8337dd6",
   "metadata": {},
   "source": [
    "Predicting on test data."
   ]
  },
  {
   "cell_type": "code",
   "execution_count": 98,
   "id": "4c314ad8-0585-4384-9f5c-faf102c8968c",
   "metadata": {},
   "outputs": [],
   "source": [
    "probability_predictions = [prediction[1] for prediction in logistic_regression_model.predict_proba(x_test)]"
   ]
  },
  {
   "cell_type": "markdown",
   "id": "8e121397-32b3-45ee-9ff4-300e014fa308",
   "metadata": {},
   "source": [
    "Assessing against test data using RMSE."
   ]
  },
  {
   "cell_type": "code",
   "execution_count": 100,
   "id": "1a342cfc-6cc6-495f-8d6b-68491e55ac4d",
   "metadata": {},
   "outputs": [
    {
     "data": {
      "text/plain": [
       "0.4630317925996652"
      ]
     },
     "execution_count": 100,
     "metadata": {},
     "output_type": "execute_result"
    }
   ],
   "source": [
    "RMSE = np.sqrt(mean_squared_error(y_test, probability_predictions))\n",
    "RMSE"
   ]
  },
  {
   "cell_type": "markdown",
   "id": "9250c1db-9819-4213-8c4a-bb53cdb31cab",
   "metadata": {},
   "source": [
    "# Conclusion"
   ]
  },
  {
   "cell_type": "markdown",
   "id": "c3be4b05-1ddb-493a-b95c-3b581899b50f",
   "metadata": {},
   "source": [
    "There is virtually no difference between the RMSE in the linear or logistic regression models. We will use the linear model and adjust values above 1 or below 1 for simplicity's sake. Model intercept and coefficient:"
   ]
  },
  {
   "cell_type": "code",
   "execution_count": 103,
   "id": "dd714f05-9d9e-4b81-8c0f-ec957c5df241",
   "metadata": {},
   "outputs": [
    {
     "name": "stdout",
     "output_type": "stream",
     "text": [
      "Intercept: 0.5040042425856379\n",
      "Coefficient: -0.030485526633855984\n"
     ]
    }
   ],
   "source": [
    "print(\"Intercept:\", linear_regression_model.intercept_)\n",
    "print(\"Coefficient:\", linear_regression_model.coef_[0])"
   ]
  }
 ],
 "metadata": {
  "kernelspec": {
   "display_name": "Python 3 (ipykernel)",
   "language": "python",
   "name": "python3"
  },
  "language_info": {
   "codemirror_mode": {
    "name": "ipython",
    "version": 3
   },
   "file_extension": ".py",
   "mimetype": "text/x-python",
   "name": "python",
   "nbconvert_exporter": "python",
   "pygments_lexer": "ipython3",
   "version": "3.10.12"
  }
 },
 "nbformat": 4,
 "nbformat_minor": 5
}
